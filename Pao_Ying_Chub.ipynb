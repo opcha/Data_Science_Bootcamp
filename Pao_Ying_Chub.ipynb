{
  "nbformat": 4,
  "nbformat_minor": 0,
  "metadata": {
    "colab": {
      "private_outputs": true,
      "provenance": [],
      "collapsed_sections": [],
      "authorship_tag": "ABX9TyPwYnuVZJTP8Jf8MjMFo0yc",
      "include_colab_link": true
    },
    "kernelspec": {
      "name": "python3",
      "display_name": "Python 3"
    },
    "language_info": {
      "name": "python"
    }
  },
  "cells": [
    {
      "cell_type": "markdown",
      "metadata": {
        "id": "view-in-github",
        "colab_type": "text"
      },
      "source": [
        "<a href=\"https://colab.research.google.com/github/opcha/my-first-xml/blob/main/Pao_Ying_Chub.ipynb\" target=\"_parent\"><img src=\"https://colab.research.google.com/assets/colab-badge.svg\" alt=\"Open In Colab\"/></a>"
      ]
    },
    {
      "cell_type": "markdown",
      "source": [
        "# Home work\n",
        "## Pao Ying Chub\n",
        "\n",
        "\n"
      ],
      "metadata": {
        "id": "FeBIlUx0kcMk"
      }
    },
    {
      "cell_type": "code",
      "source": [
        "import random"
      ],
      "metadata": {
        "id": "9J2GMbRokbhh"
      },
      "execution_count": null,
      "outputs": []
    },
    {
      "cell_type": "code",
      "execution_count": null,
      "metadata": {
        "id": "NtFEwqi7kayn"
      },
      "outputs": [],
      "source": [
        "print(random.randint(0, 2))"
      ]
    },
    {
      "cell_type": "code",
      "source": [
        "com_hand = [\"rock\", \"paper\", \"scissors\"]\n",
        "print(type(random.choice(com_hand)))"
      ],
      "metadata": {
        "id": "5lKICevBk_yf"
      },
      "execution_count": null,
      "outputs": []
    },
    {
      "cell_type": "code",
      "source": [
        "def pao_ying_chub():\n",
        "    count_win = 0\n",
        "    count_tie = 0\n",
        "    count_loss = 0\n",
        "    while True:\n",
        "        user_hand = input(\"Hand: \")\n",
        "        com_hand = [\"rock\", \"paper\", \"scissors\"]\n",
        "        com_hand = random.choice(com_hand)\n",
        "        print(\"Computer_hand: \", com_hand)\n",
        "        if user_hand == \"end\":\n",
        "            return \"Game Over!\"\n",
        "        elif user_hand == com_hand:\n",
        "            count_tie += 1\n",
        "            print(\"Tie\")\n",
        "        elif user_hand == \"rock\" and com_hand == \"scissors\":\n",
        "            count_win += 1\n",
        "            print(\"You Win!\")\n",
        "             \n",
        "        elif user_hand == \"paper\" and com_hand == \"rock\":\n",
        "            count_win += 1\n",
        "            print(\"You Win!\")\n",
        "        \n",
        "        elif user_hand == \"scissors\" and com_hand == \"paper\":\n",
        "            count_win += 1\n",
        "            print(\"You Win!\")\n",
        "        else:\n",
        "            count_loss += 1\n",
        "            print(\"You Lose!\")\n",
        "       \n",
        "        print(\"win: \",count_win,\" tie: \",count_tie,\" loss: \",count_loss)"
      ],
      "metadata": {
        "id": "bcLxbZaxlEqN"
      },
      "execution_count": null,
      "outputs": []
    },
    {
      "cell_type": "code",
      "source": [
        "pao_ying_chub()"
      ],
      "metadata": {
        "id": "RCTixpVtmsV0"
      },
      "execution_count": null,
      "outputs": []
    },
    {
      "cell_type": "code",
      "source": [
        "pao_ying_chub()"
      ],
      "metadata": {
        "id": "p2DYiGl1mwoQ"
      },
      "execution_count": null,
      "outputs": []
    },
    {
      "cell_type": "markdown",
      "source": [
        "# ATM Class\n",
        "- ถอนเงิน\n",
        "- ฝากเงิน\n",
        "- เช็คยอดเงิน"
      ],
      "metadata": {
        "id": "SYwUzIpinAI8"
      }
    },
    {
      "cell_type": "code",
      "source": [
        "class ATM:\n",
        "    # initialization\n",
        "    def __init__(self, money):\n",
        "        self.money = money\n",
        "        # , deposit_money, withdraw_money\n",
        "        # self.deposit_money = deposit_money\n",
        "        # self.withdraw_money = withdraw_money\n",
        "    def __str__(self):\n",
        "        return \"This is my ATM nakrub\"\n",
        "    # ATM Methods\n",
        "    def balance_check(self):\n",
        "        print(f\"You have balance {self.money} baht.\")\n",
        "    def deposit(self, deposit_money):\n",
        "        self.money += deposit_money\n",
        "        print(f\"You deposit {deposit_money} baht.\")\n",
        "        # print(f\"You have balance {self.money} baht.\")\n",
        "        self.balance_check()\n",
        "    def withdraw(self, withdraw_money):\n",
        "        self.money -= withdraw_money\n",
        "        print(f\"You withdraw {withdraw_money} baht.\")\n",
        "        self.balance_check()\n",
        "    def transfer(self, transfer_money, people):\n",
        "        self.money -= transfer_money\n",
        "        print(f\"You transfer {transfer_money} baht to {people}.\")\n",
        "        self.balance_check()"
      ],
      "metadata": {
        "id": "RLEVt9tOnKnN"
      },
      "execution_count": null,
      "outputs": []
    },
    {
      "cell_type": "code",
      "source": [
        "atm1 = ATM(1000000)"
      ],
      "metadata": {
        "id": "PqYmmiyynVem"
      },
      "execution_count": null,
      "outputs": []
    },
    {
      "cell_type": "code",
      "source": [
        "atm1.money"
      ],
      "metadata": {
        "id": "mi3LY2-snY3K"
      },
      "execution_count": null,
      "outputs": []
    },
    {
      "cell_type": "code",
      "source": [
        "atm1.deposit(1000000)"
      ],
      "metadata": {
        "id": "4t4kDDCJnZ_N"
      },
      "execution_count": null,
      "outputs": []
    },
    {
      "cell_type": "code",
      "source": [
        "atm1.transfer(2000000, \"Ice\")"
      ],
      "metadata": {
        "id": "s0zkdNRfncOp"
      },
      "execution_count": null,
      "outputs": []
    },
    {
      "cell_type": "code",
      "source": [
        "print(atm1)"
      ],
      "metadata": {
        "id": "svsXCcuJnl83"
      },
      "execution_count": null,
      "outputs": []
    }
  ]
}