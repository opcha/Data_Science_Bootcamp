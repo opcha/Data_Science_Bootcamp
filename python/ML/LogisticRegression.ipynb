{
  "nbformat": 4,
  "nbformat_minor": 0,
  "metadata": {
    "colab": {
      "private_outputs": true,
      "provenance": []
    },
    "kernelspec": {
      "name": "python3",
      "display_name": "Python 3"
    },
    "language_info": {
      "name": "python"
    }
  },
  "cells": [
    {
      "cell_type": "code",
      "execution_count": null,
      "metadata": {
        "id": "IdQ5S57PRZnk"
      },
      "outputs": [],
      "source": [
        "import pandas as pd"
      ]
    },
    {
      "cell_type": "code",
      "source": [
        "df = pd.read_csv('/content/drive/MyDrive/Colab Notebooks/Dataset/01-census-income-all.csv')"
      ],
      "metadata": {
        "id": "fHSd3oVPboMq"
      },
      "execution_count": null,
      "outputs": []
    },
    {
      "cell_type": "code",
      "source": [
        "X = df[ ['age', 'edu num', 'marital status', 'occupation', 'sex', 'captial-gain','capital-loss', 'hours-per-week' ] ]\n",
        "y = df['label']"
      ],
      "metadata": {
        "id": "u5h0PAM4cA_Y"
      },
      "execution_count": null,
      "outputs": []
    },
    {
      "cell_type": "code",
      "source": [
        "from sklearn.model_selection import train_test_split"
      ],
      "metadata": {
        "id": "AU62_pqkcUuM"
      },
      "execution_count": null,
      "outputs": []
    },
    {
      "cell_type": "code",
      "source": [
        "X_train, X_test, y_train, y_test = train_test_split(X, y, test_size=0.2)"
      ],
      "metadata": {
        "id": "1Laz9Wh6ccDo"
      },
      "execution_count": null,
      "outputs": []
    },
    {
      "cell_type": "code",
      "source": [
        "from sklearn.compose import make_column_transformer\n",
        "from sklearn.preprocessing import MinMaxScaler, OneHotEncoder"
      ],
      "metadata": {
        "id": "kUChU9qocIk7"
      },
      "execution_count": null,
      "outputs": []
    },
    {
      "cell_type": "code",
      "source": [
        "transformer = make_column_transformer(\n",
        "    ( MinMaxScaler(), ['age', 'edu num','captial-gain','capital-loss', 'hours-per-week'] ),\n",
        "    ( OneHotEncoder(), ['marital status', 'occupation', 'sex' ])\n",
        ")"
      ],
      "metadata": {
        "id": "f8LYZRsvcMr4"
      },
      "execution_count": null,
      "outputs": []
    },
    {
      "cell_type": "code",
      "source": [
        "X_train_transformed = transformer.fit_transform(X_train)"
      ],
      "metadata": {
        "id": "b_ApCV0Kchk-"
      },
      "execution_count": null,
      "outputs": []
    },
    {
      "cell_type": "code",
      "source": [
        "X_test_transformed = transformer.transform(X_test)"
      ],
      "metadata": {
        "id": "XIvvG1nTcrUL"
      },
      "execution_count": null,
      "outputs": []
    },
    {
      "cell_type": "markdown",
      "source": [
        "# Logistic Regression"
      ],
      "metadata": {
        "id": "5EKi8OgAuHVT"
      }
    },
    {
      "cell_type": "code",
      "source": [
        "from sklearn.linear_model import LogisticRegression"
      ],
      "metadata": {
        "id": "5J7GHYGSdCiG"
      },
      "execution_count": null,
      "outputs": []
    },
    {
      "cell_type": "code",
      "source": [
        "logm = LogisticRegression(max_iter=1000)\n",
        "logm.fit(X_train_transformed, y_train)"
      ],
      "metadata": {
        "id": "nYq2ZkeNeCt-"
      },
      "execution_count": null,
      "outputs": []
    },
    {
      "cell_type": "code",
      "source": [
        "logm.coef_"
      ],
      "metadata": {
        "id": "nQ9FFMXVeQbw"
      },
      "execution_count": null,
      "outputs": []
    },
    {
      "cell_type": "code",
      "source": [
        "logm.intercept_"
      ],
      "metadata": {
        "id": "h3iSHQnbeTG3"
      },
      "execution_count": null,
      "outputs": []
    },
    {
      "cell_type": "code",
      "source": [
        "logm.score(X_train_transformed, y_train)"
      ],
      "metadata": {
        "id": "GquY1UcWeV8H"
      },
      "execution_count": null,
      "outputs": []
    },
    {
      "cell_type": "code",
      "source": [
        "logm.score(X_test_transformed, y_test)"
      ],
      "metadata": {
        "id": "cd8qHOk2eett"
      },
      "execution_count": null,
      "outputs": []
    },
    {
      "cell_type": "code",
      "source": [
        "logm.decision_function(X_test_transformed[0:5])"
      ],
      "metadata": {
        "id": "vVjsowELe5NF"
      },
      "execution_count": null,
      "outputs": []
    },
    {
      "cell_type": "markdown",
      "source": [
        "# SVM"
      ],
      "metadata": {
        "id": "Qvp9ubT6txbr"
      }
    },
    {
      "cell_type": "code",
      "source": [
        "from sklearn.svm import LinearSVC"
      ],
      "metadata": {
        "id": "YWn33NVUfT3v"
      },
      "execution_count": null,
      "outputs": []
    },
    {
      "cell_type": "code",
      "source": [
        "lsvc = LinearSVC()\n",
        "lsvc.fit(X_train_transformed, y_train)"
      ],
      "metadata": {
        "id": "7gw9JbcouoJG"
      },
      "execution_count": null,
      "outputs": []
    },
    {
      "cell_type": "code",
      "source": [
        "lsvc.coef_"
      ],
      "metadata": {
        "id": "Mwh-lmmeusn4"
      },
      "execution_count": null,
      "outputs": []
    },
    {
      "cell_type": "code",
      "source": [
        "lsvc.intercept_"
      ],
      "metadata": {
        "id": "4IZs9vUmu7oY"
      },
      "execution_count": null,
      "outputs": []
    },
    {
      "cell_type": "code",
      "source": [
        "lsvc.score(X_train_transformed, y_train)"
      ],
      "metadata": {
        "id": "Gtk1_887u-d7"
      },
      "execution_count": null,
      "outputs": []
    },
    {
      "cell_type": "code",
      "source": [
        "lsvc.score(X_test_transformed, y_test)"
      ],
      "metadata": {
        "id": "IDu6lQQNvDG3"
      },
      "execution_count": null,
      "outputs": []
    },
    {
      "cell_type": "code",
      "source": [
        "from sklearn.svm import SVC"
      ],
      "metadata": {
        "id": "deJ22stqvIDU"
      },
      "execution_count": null,
      "outputs": []
    },
    {
      "cell_type": "code",
      "source": [
        "svc = SVC()"
      ],
      "metadata": {
        "id": "slDWeGL5wNMB"
      },
      "execution_count": null,
      "outputs": []
    },
    {
      "cell_type": "code",
      "source": [
        "svc = SVC(kernel='poly')"
      ],
      "metadata": {
        "id": "cZKYCU7pxn_d"
      },
      "execution_count": null,
      "outputs": []
    },
    {
      "cell_type": "code",
      "source": [
        "svc.fit(X_train_transformed, y_train)"
      ],
      "metadata": {
        "id": "QC5IXzQdwRs5"
      },
      "execution_count": null,
      "outputs": []
    },
    {
      "cell_type": "code",
      "source": [
        "svc.support_vectors_.toarray()"
      ],
      "metadata": {
        "id": "_4jan2XywWKP"
      },
      "execution_count": null,
      "outputs": []
    },
    {
      "cell_type": "code",
      "source": [
        "svc.support_.shape"
      ],
      "metadata": {
        "id": "ljyTr7XlwmJ6"
      },
      "execution_count": null,
      "outputs": []
    },
    {
      "cell_type": "code",
      "source": [
        "svc.score(X_train_transformed, y_train)"
      ],
      "metadata": {
        "id": "4rPP73plwzGl"
      },
      "execution_count": null,
      "outputs": []
    },
    {
      "cell_type": "code",
      "source": [
        "svc.score(X_test_transformed, y_test)"
      ],
      "metadata": {
        "id": "6QK1JqKkxzFL"
      },
      "execution_count": null,
      "outputs": []
    },
    {
      "cell_type": "markdown",
      "source": [
        "# Voting Classifier"
      ],
      "metadata": {
        "id": "1JyQoDi7Kyq6"
      }
    },
    {
      "cell_type": "code",
      "source": [
        "from sklearn.ensemble import VotingClassifier"
      ],
      "metadata": {
        "id": "xRoR05v0K5ev"
      },
      "execution_count": null,
      "outputs": []
    },
    {
      "cell_type": "code",
      "source": [
        "from sklearn.neighbors import KNeighborsClassifier\n",
        "from sklearn.tree import DecisionTreeClassifier\n",
        "from sklearn.naive_bayes import GaussianNB"
      ],
      "metadata": {
        "id": "wcs_x7FiLC4w"
      },
      "execution_count": null,
      "outputs": []
    },
    {
      "cell_type": "code",
      "source": [
        "voting = VotingClassifier(\n",
        "    estimators=[ ('knn', KNeighborsClassifier(31) ),\n",
        "                        ('tree', DecisionTreeClassifier(max_depth=10) ),\n",
        "                        ('gnb', GaussianNB() ),\n",
        "                        ('lg', LogisticRegression(max_iter=1000) ),\n",
        "                        ('svc', SVC() ) ]\n",
        ")"
      ],
      "metadata": {
        "id": "eLVUpAs6LC1K"
      },
      "execution_count": null,
      "outputs": []
    },
    {
      "cell_type": "code",
      "source": [
        "voting.fit(X_train_transformed.toarray(), y_train)"
      ],
      "metadata": {
        "id": "Z_xQ1Jo8MClD"
      },
      "execution_count": null,
      "outputs": []
    },
    {
      "cell_type": "code",
      "source": [
        "voting.estimators_[1].get_n_leaves()"
      ],
      "metadata": {
        "id": "EsFxEd_7NX9W"
      },
      "execution_count": null,
      "outputs": []
    },
    {
      "cell_type": "code",
      "source": [
        "voting.score(X_train_transformed.toarray(), y_train)"
      ],
      "metadata": {
        "id": "Uh2lN7BQNjg7"
      },
      "execution_count": null,
      "outputs": []
    },
    {
      "cell_type": "code",
      "source": [
        "voting.score(X_test_transformed.toarray(), y_test)"
      ],
      "metadata": {
        "id": "hNn373ulNyMc"
      },
      "execution_count": null,
      "outputs": []
    },
    {
      "cell_type": "markdown",
      "source": [
        "# Bagging"
      ],
      "metadata": {
        "id": "gdsG3OhpRU6S"
      }
    },
    {
      "cell_type": "code",
      "source": [
        "from sklearn.ensemble import BaggingClassifier"
      ],
      "metadata": {
        "id": "3Fn-IApGOTFd"
      },
      "execution_count": null,
      "outputs": []
    },
    {
      "cell_type": "code",
      "source": [
        "bag = BaggingClassifier(DecisionTreeClassifier(max_depth=10), n_estimators=50, oob_score=True )"
      ],
      "metadata": {
        "id": "u0_ywURaReGn"
      },
      "execution_count": null,
      "outputs": []
    },
    {
      "cell_type": "code",
      "source": [
        "bag.fit(X_train_transformed, y_train)"
      ],
      "metadata": {
        "id": "gcFld2PLSQDw"
      },
      "execution_count": null,
      "outputs": []
    },
    {
      "cell_type": "code",
      "source": [
        "bag.oob_score_"
      ],
      "metadata": {
        "id": "O0BUNjwESq0F"
      },
      "execution_count": null,
      "outputs": []
    },
    {
      "cell_type": "code",
      "source": [
        "bag.score(X_train_transformed, y_train)"
      ],
      "metadata": {
        "id": "dS8mW3oCSZmD"
      },
      "execution_count": null,
      "outputs": []
    },
    {
      "cell_type": "code",
      "source": [
        "bag.score(X_test_transformed, y_test)"
      ],
      "metadata": {
        "id": "7wnbtJROSvVq"
      },
      "execution_count": null,
      "outputs": []
    },
    {
      "cell_type": "markdown",
      "source": [
        "# Random Forest"
      ],
      "metadata": {
        "id": "Xu_B_A9FUPLR"
      }
    },
    {
      "cell_type": "code",
      "source": [
        "from sklearn.ensemble import RandomForestClassifier"
      ],
      "metadata": {
        "id": "LO9fjRhHSzqh"
      },
      "execution_count": null,
      "outputs": []
    },
    {
      "cell_type": "code",
      "source": [
        "rf = RandomForestClassifier(n_estimators=100, max_leaf_nodes=16, max_depth=10, oob_score=True)"
      ],
      "metadata": {
        "id": "KjrItMYgUZQO"
      },
      "execution_count": null,
      "outputs": []
    },
    {
      "cell_type": "code",
      "source": [
        "rf.fit(X_train_transformed, y_train)"
      ],
      "metadata": {
        "id": "cMn3Y2VeVL2M"
      },
      "execution_count": null,
      "outputs": []
    },
    {
      "cell_type": "code",
      "source": [
        "rf.oob_score_"
      ],
      "metadata": {
        "id": "b13iyq18VQP4"
      },
      "execution_count": null,
      "outputs": []
    },
    {
      "cell_type": "code",
      "source": [
        "rf.score(X_train_transformed, y_train)"
      ],
      "metadata": {
        "id": "GvOm7nlmVWb-"
      },
      "execution_count": null,
      "outputs": []
    },
    {
      "cell_type": "code",
      "source": [
        "rf.score(X_test_transformed, y_test)"
      ],
      "metadata": {
        "id": "fmfWOFDpVcYe"
      },
      "execution_count": null,
      "outputs": []
    },
    {
      "cell_type": "markdown",
      "source": [
        "# AdaBoots"
      ],
      "metadata": {
        "id": "23GRua2VceHt"
      }
    },
    {
      "cell_type": "code",
      "source": [
        "from sklearn.ensemble import AdaBoostClassifier"
      ],
      "metadata": {
        "id": "lluhLovgVfoF"
      },
      "execution_count": null,
      "outputs": []
    },
    {
      "cell_type": "code",
      "source": [
        "ada = AdaBoostClassifier(\n",
        "    DecisionTreeClassifier(max_depth=3), \n",
        "    n_estimators=30,\n",
        "    learning_rate=1\n",
        ")"
      ],
      "metadata": {
        "id": "perKLTkRcomz"
      },
      "execution_count": null,
      "outputs": []
    },
    {
      "cell_type": "code",
      "source": [
        "ada.fit(X_train_transformed, y_train)"
      ],
      "metadata": {
        "id": "cDIQXC9HeELx"
      },
      "execution_count": null,
      "outputs": []
    },
    {
      "cell_type": "code",
      "source": [
        "ada.estimator_weights_"
      ],
      "metadata": {
        "id": "NA7E3mKNeG54"
      },
      "execution_count": null,
      "outputs": []
    },
    {
      "cell_type": "code",
      "source": [
        "ada.estimator_errors_"
      ],
      "metadata": {
        "id": "HWXcKosiefL8"
      },
      "execution_count": null,
      "outputs": []
    },
    {
      "cell_type": "code",
      "source": [
        "ada.score(X_train_transformed, y_train)"
      ],
      "metadata": {
        "id": "Mbi1Fx1Cen7W"
      },
      "execution_count": null,
      "outputs": []
    },
    {
      "cell_type": "code",
      "source": [
        "ada.score(X_test_transformed, y_test)"
      ],
      "metadata": {
        "id": "tYT7-3oTe_ze"
      },
      "execution_count": null,
      "outputs": []
    },
    {
      "cell_type": "markdown",
      "source": [
        "# Gradient Boosting"
      ],
      "metadata": {
        "id": "rMnT_sUBi1Im"
      }
    },
    {
      "cell_type": "code",
      "source": [
        "from sklearn.ensemble import GradientBoostingClassifier"
      ],
      "metadata": {
        "id": "9WEskO6ffD4k"
      },
      "execution_count": null,
      "outputs": []
    },
    {
      "cell_type": "code",
      "source": [
        "gdb = GradientBoostingClassifier()"
      ],
      "metadata": {
        "id": "8TqcDbJZi9If"
      },
      "execution_count": null,
      "outputs": []
    },
    {
      "cell_type": "code",
      "source": [
        "gdb.fit(X_train_transformed, y_train)"
      ],
      "metadata": {
        "id": "TfSBaFYgjttY"
      },
      "execution_count": null,
      "outputs": []
    },
    {
      "cell_type": "code",
      "source": [
        "gdb.train_score_"
      ],
      "metadata": {
        "id": "WoclpSkEjxYb"
      },
      "execution_count": null,
      "outputs": []
    },
    {
      "cell_type": "code",
      "source": [
        "gdb.score(X_train_transformed, y_train)"
      ],
      "metadata": {
        "id": "hYaguFeQj4dh"
      },
      "execution_count": null,
      "outputs": []
    },
    {
      "cell_type": "code",
      "source": [
        "gdb.score(X_test_transformed, y_test)"
      ],
      "metadata": {
        "id": "ls6Hd2F9kJKp"
      },
      "execution_count": null,
      "outputs": []
    },
    {
      "cell_type": "markdown",
      "source": [
        "# Stacking"
      ],
      "metadata": {
        "id": "FTcJ_KkjogMV"
      }
    },
    {
      "cell_type": "code",
      "source": [
        "from sklearn.ensemble import StackingClassifier"
      ],
      "metadata": {
        "id": "QfkyQBUNkNqE"
      },
      "execution_count": null,
      "outputs": []
    },
    {
      "cell_type": "code",
      "source": [
        "stack = StackingClassifier(\n",
        "    estimators=[  ('knn', KNeighborsClassifier(31) ),\n",
        "                        ('tree', DecisionTreeClassifier(max_depth=10) ),\n",
        "                        ('gnb', GaussianNB() ),\n",
        "                        ('lg', LogisticRegression(max_iter=1000) ),\n",
        "                        ('svc', SVC() ) \n",
        "    ],\n",
        "    final_estimator=RandomForestClassifier()\n",
        ")"
      ],
      "metadata": {
        "id": "c0wGp0Wnos6Y"
      },
      "execution_count": null,
      "outputs": []
    },
    {
      "cell_type": "code",
      "source": [
        "stack.fit(X_train_transformed.toarray(), y_train)"
      ],
      "metadata": {
        "id": "vgG_sG5vpDUf"
      },
      "execution_count": null,
      "outputs": []
    },
    {
      "cell_type": "code",
      "source": [
        "stack.score(X_train_transformed.toarray(), y_train)"
      ],
      "metadata": {
        "id": "9BnpLYOppLJT"
      },
      "execution_count": null,
      "outputs": []
    },
    {
      "cell_type": "code",
      "source": [
        "stack.score(X_test_transformed.toarray(), y_test)"
      ],
      "metadata": {
        "id": "oNgAex1kr2MK"
      },
      "execution_count": null,
      "outputs": []
    },
    {
      "cell_type": "code",
      "source": [],
      "metadata": {
        "id": "CchIHqbSr6hH"
      },
      "execution_count": null,
      "outputs": []
    }
  ]
}